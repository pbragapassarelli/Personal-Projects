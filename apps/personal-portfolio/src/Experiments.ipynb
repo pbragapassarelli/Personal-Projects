{
 "cells": [
  {
   "cell_type": "code",
   "execution_count": 1,
   "metadata": {},
   "outputs": [],
   "source": [
    "import os\n",
    "from dotenv import load_dotenv\n",
    "\n",
    "load_dotenv()\n",
    "\n",
    "API_KEY = os.getenv('API_KEY')\n",
    "\n",
    "def get_price_for_ticker(ticker, key=API_KEY):\n",
    "    import requests\n",
    "\n",
    "    url = f'https://www.alphavantage.co/query?function=GLOBAL_QUOTE&symbol={ticker}.SA&apikey={key}'\n",
    "    data = requests.get(url).json()\n",
    "\n",
    "    return data"
   ]
  },
  {
   "cell_type": "code",
   "execution_count": 3,
   "metadata": {},
   "outputs": [],
   "source": [
    "a = get_price_for_ticker('ITSA4')"
   ]
  },
  {
   "cell_type": "code",
   "execution_count": 5,
   "metadata": {},
   "outputs": [
    {
     "data": {
      "text/plain": [
       "{'Global Quote': {'01. symbol': 'ITSA4.SA',\n",
       "  '02. open': '11.3300',\n",
       "  '03. high': '11.3800',\n",
       "  '04. low': '11.1200',\n",
       "  '05. price': '11.2500',\n",
       "  '06. volume': '66008100',\n",
       "  '07. latest trading day': '2021-09-03',\n",
       "  '08. previous close': '11.2700',\n",
       "  '09. change': '-0.0200',\n",
       "  '10. change percent': '-0.1775%'}}"
      ]
     },
     "execution_count": 5,
     "metadata": {},
     "output_type": "execute_result"
    }
   ],
   "source": [
    "a"
   ]
  },
  {
   "cell_type": "code",
   "execution_count": 6,
   "metadata": {},
   "outputs": [
    {
     "data": {
      "text/plain": [
       "{'01. symbol': 'ITSA4.SA',\n",
       " '02. open': '11.3300',\n",
       " '03. high': '11.3800',\n",
       " '04. low': '11.1200',\n",
       " '05. price': '11.2500',\n",
       " '06. volume': '66008100',\n",
       " '07. latest trading day': '2021-09-03',\n",
       " '08. previous close': '11.2700',\n",
       " '09. change': '-0.0200',\n",
       " '10. change percent': '-0.1775%'}"
      ]
     },
     "execution_count": 6,
     "metadata": {},
     "output_type": "execute_result"
    }
   ],
   "source": [
    "a['Global Quote']"
   ]
  },
  {
   "cell_type": "code",
   "execution_count": 14,
   "metadata": {},
   "outputs": [
    {
     "data": {
      "text/plain": [
       "11.25"
      ]
     },
     "execution_count": 14,
     "metadata": {},
     "output_type": "execute_result"
    }
   ],
   "source": [
    "float(a['Global Quote']['05. price'])"
   ]
  }
 ],
 "metadata": {
  "kernelspec": {
   "display_name": "Python 3",
   "language": "python",
   "name": "python3"
  },
  "language_info": {
   "codemirror_mode": {
    "name": "ipython",
    "version": 3
   },
   "file_extension": ".py",
   "mimetype": "text/x-python",
   "name": "python",
   "nbconvert_exporter": "python",
   "pygments_lexer": "ipython3",
   "version": "3.7.4"
  }
 },
 "nbformat": 4,
 "nbformat_minor": 2
}
